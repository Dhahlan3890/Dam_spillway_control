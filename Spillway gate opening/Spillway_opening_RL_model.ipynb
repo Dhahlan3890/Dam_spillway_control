{
 "cells": [
  {
   "cell_type": "code",
   "execution_count": null,
   "id": "24878fbb-3396-4f2b-8f0a-47390e824241",
   "metadata": {},
   "outputs": [],
   "source": [
    "import numpy as np\n",
    "import gym\n",
    "import matplotlib.pyplot as plt"
   ]
  },
  {
   "cell_type": "code",
   "execution_count": null,
   "id": "2de786db-1551-4707-ab13-b7d8ddd7f6fa",
   "metadata": {},
   "outputs": [],
   "source": [
    "class DamGateControlEnv(gym.Env):\n",
    "    def __init__(self, num_gates=1, num_levels=8):\n",
    "        super(DamGateControlEnv, self).__init__()\n",
    "        self.num_gates = num_gates\n",
    "        self.num_levels = num_levels\n",
    "        self.observation_space = gym.spaces.Discrete(num_levels * num_gates)\n",
    "        self.action_space = gym.spaces.Discrete(num_levels)\n",
    "        self.state = np.zeros(num_gates)\n",
    "\n",
    "    def reset(self):\n",
    "        self.state = np.zeros(self.num_gates)\n",
    "        return self.state\n",
    "\n",
    "    def step(self, action):\n",
    "        # Update the gate positions based on the action\n",
    "        self.state += action - (self.num_levels // 2)\n",
    "        self.state = np.clip(self.state, 0, self.num_levels - 1)\n",
    "\n",
    "        # Calculate the reward (you may need to customize this based on your problem)\n",
    "        reward = -np.sum(np.abs(self.state - (self.num_levels // 2)))\n",
    "\n",
    "        # Check if the episode is done (you may need to customize this based on your problem)\n",
    "        done = False\n",
    "\n",
    "        return self.state, reward, done, {}\n",
    "\n"
   ]
  },
  {
   "cell_type": "markdown",
   "id": "05db7f69-7c40-4e45-ad75-0da4c917fa39",
   "metadata": {},
   "source": [
    "# Q-learning algorithm"
   ]
  },
  {
   "cell_type": "code",
   "execution_count": null,
   "id": "e2db146a-e9a0-47b3-a995-dd3b83e3f6f1",
   "metadata": {},
   "outputs": [],
   "source": [
    "def q_learning(env, num_episodes=1000, alpha=0.1, gamma=0.99, epsilon=0.1):\n",
    "    q_table = np.zeros((env.observation_space.n, env.action_space.n))\n",
    "    rewards_history = []\n",
    "    q_value_history = []  # New list to store Q-values for a specific state-action pair\n",
    "\n",
    "    for episode in range(num_episodes):\n",
    "        state = env.reset()\n",
    "        state = int(state.item()) if hasattr(state, 'item') else int(state)\n",
    "        done = False\n",
    "        total_reward = 0\n",
    "\n",
    "        while not done:\n",
    "            if np.random.rand() < epsilon:\n",
    "                action = env.action_space.sample()  # Exploration\n",
    "            else:\n",
    "                action = np.argmax(q_table[state])  # Exploitation\n",
    "\n",
    "            next_state, reward, done, _ = env.step(action)\n",
    "            next_state = int(next_state.item()) if hasattr(next_state, 'item') else int(next_state)\n",
    "\n",
    "            # Q-value update\n",
    "            q_table[state, action] += alpha * (reward + gamma * np.max(q_table[next_state]) - q_table[state, action])\n",
    "\n",
    "            state = next_state\n",
    "            total_reward += reward\n",
    "\n",
    "        rewards_history.append(total_reward)\n",
    "\n",
    "    # Plot the rewards and Q-values\n",
    "    plt.figure(figsize=(12, 6))\n",
    "\n",
    "    # Plot rewards\n",
    "    plt.subplot(1, 2, 1)\n",
    "    plt.plot(rewards_history)\n",
    "    plt.xlabel('Episode')\n",
    "    plt.ylabel('Total Reward')\n",
    "    plt.title('Training Progress')\n",
    "\n",
    "    # Plot Q-values for the specified state-action pair\n",
    "    plt.subplot(1, 2, 2)\n",
    "    plt.plot(q_value_history)\n",
    "    plt.xlabel('Episode')\n",
    "    plt.ylabel('Q-value')\n",
    "    plt.title(f'Q-values for State-Action Pair {plot_state}')\n",
    "\n",
    "    plt.tight_layout()\n",
    "    plt.show()\n",
    "\n",
    "    return q_table, rewards_history"
   ]
  },
  {
   "cell_type": "code",
   "execution_count": null,
   "id": "3f849954-0713-44dc-bb19-a685f968191b",
   "metadata": {},
   "outputs": [],
   "source": [
    "# Function to visualize Q-values for a specific state-action pair\n",
    "def visualize_q_values(q_table, state_action_pair):\n",
    "    plt.plot(q_table[state_action_pair[0], state_action_pair[1]])\n",
    "    plt.xlabel('Episode')\n",
    "    plt.ylabel('Q-value')\n",
    "    plt.title(f'Q-values for State-Action Pair {state_action_pair}')\n",
    "    plt.show()"
   ]
  },
  {
   "cell_type": "markdown",
   "id": "4f294a23-057d-4888-9d9f-499e445258d5",
   "metadata": {},
   "source": [
    "# Training the agent"
   ]
  },
  {
   "cell_type": "code",
   "execution_count": null,
   "id": "bf250517-b6f2-4b5e-8719-b1a46063a1c5",
   "metadata": {},
   "outputs": [],
   "source": [
    "env = DamGateControlEnv()"
   ]
  },
  {
   "cell_type": "code",
   "execution_count": null,
   "id": "8e6c2359-b8eb-4fed-a684-86b940b8eec2",
   "metadata": {},
   "outputs": [],
   "source": [
    "trained_q_table, rewards_history = q_learning(env)"
   ]
  },
  {
   "cell_type": "code",
   "execution_count": null,
   "id": "5b5eda9c-3986-4a80-b9a8-f8a84fae7610",
   "metadata": {},
   "outputs": [],
   "source": [
    "visualize_q_values(trained_q_table, (0, 0))"
   ]
  },
  {
   "cell_type": "markdown",
   "id": "b38dff2d-0668-4998-ad2f-e622cfb56c01",
   "metadata": {},
   "source": [
    "# Testing the trained agent"
   ]
  },
  {
   "cell_type": "code",
   "execution_count": null,
   "id": "d70b8207-c05c-412f-ad1b-90012d08cb63",
   "metadata": {},
   "outputs": [],
   "source": [
    "state = env.reset()\n",
    "state = int(state.item()) if hasattr(state, 'item') else int(state)\n",
    "done = False"
   ]
  },
  {
   "cell_type": "code",
   "execution_count": null,
   "id": "5a5504dc-7dd4-4051-b3e8-4f08e0dc5776",
   "metadata": {},
   "outputs": [],
   "source": [
    "while not done:\n",
    "    action = np.argmax(trained_q_table[state])\n",
    "    next_state, reward, done, _ = env.step(action)\n",
    "    next_state = int(next_state.item()) if hasattr(next_state, 'item') else int(next_state)\n",
    "\n",
    "    print(f\"Current State: {state}, Action: {action}, Next State: {next_state}, Reward: {reward}\")\n",
    "\n",
    "    state = next_state"
   ]
  }
 ],
 "metadata": {
  "kernelspec": {
   "display_name": "Python 3 (ipykernel)",
   "language": "python",
   "name": "python3"
  },
  "language_info": {
   "codemirror_mode": {
    "name": "ipython",
    "version": 3
   },
   "file_extension": ".py",
   "mimetype": "text/x-python",
   "name": "python",
   "nbconvert_exporter": "python",
   "pygments_lexer": "ipython3",
   "version": "3.12.0"
  }
 },
 "nbformat": 4,
 "nbformat_minor": 5
}
