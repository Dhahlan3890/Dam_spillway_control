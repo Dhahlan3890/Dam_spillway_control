{
 "cells": [
  {
   "cell_type": "code",
   "execution_count": 3,
   "id": "24878fbb-3396-4f2b-8f0a-47390e824241",
   "metadata": {},
   "outputs": [],
   "source": [
    "import numpy as np\n",
    "from gym import Env\n",
    "from gym.spaces import Discrete, Box\n",
    "import random\n",
    "import matplotlib.pyplot as plt\n"
   ]
  },
  {
   "cell_type": "code",
   "execution_count": 4,
   "id": "ea44894c-7e94-416d-9ce5-494b2a85e708",
   "metadata": {},
   "outputs": [],
   "source": [
    "import time\n",
    "\n",
    "def change_variable_every_second(x):\n",
    "    variable_to_change = 0\n",
    "\n",
    "    while True:\n",
    "        print(\"Current value:\", variable_to_change)\n",
    "        variable_to_change += x\n",
    "        time.sleep(1)\n"
   ]
  },
  {
   "cell_type": "code",
   "execution_count": 15,
   "id": "2de786db-1551-4707-ab13-b7d8ddd7f6fa",
   "metadata": {},
   "outputs": [],
   "source": [
    "class DamGateControlEnv(Env):\n",
    "    def __init__(self, num_levels=16):\n",
    "        self.num_levels = num_levels\n",
    "        self.total_inflow = random.uniform(-1000000,1000000)\n",
    "        self.observation_space = Box(low = np.array([0.0]) , high = np.array([445.0]))\n",
    "        self.action_space = Discrete(num_levels)\n",
    "        self.state = 438.0 + random.uniform(-1, 1)\n",
    "\n",
    "    def step(self, action):\n",
    "        # Update the gate positions based on the action\n",
    "        if self.state <= 438 and self.state <=438.65:\n",
    "            reward = 1\n",
    "        else:\n",
    "            reward = -1\n",
    "\n",
    "        self.state += self.total_inflow/\n",
    "        self.state +=  action\n",
    "        self.state = np.clip(self.state, 0, self.num_levels - 1)\n",
    "\n",
    "        # Check if the episode is done (you may need to customize this based on your problem)\n",
    "        if self.state >438.65:\n",
    "            done = True\n",
    "        else:\n",
    "            done = False\n",
    "\n",
    "        self.state += random.randint(-1, 1)\n",
    "\n",
    "        info = {}\n",
    "\n",
    "        return self.state, reward, done, info\n",
    "\n",
    "    def render():\n",
    "        pass\n",
    "\n",
    "    def reset(self):\n",
    "        self.state = 438.0 + random(-1, 1, 0.01)\n",
    "        return self.state\n",
    "\n"
   ]
  },
  {
   "cell_type": "markdown",
   "id": "05db7f69-7c40-4e45-ad75-0da4c917fa39",
   "metadata": {},
   "source": [
    "# Q-learning algorithm"
   ]
  },
  {
   "cell_type": "code",
   "execution_count": 16,
   "id": "e2db146a-e9a0-47b3-a995-dd3b83e3f6f1",
   "metadata": {},
   "outputs": [],
   "source": [
    "def q_learning(env, num_episodes=1000, alpha=0.1, gamma=0.99, epsilon=0.1):\n",
    "    q_table = np.zeros((env.observation_space.n, env.action_space.n))\n",
    "    rewards_history = []\n",
    "    q_value_history = []  # New list to store Q-values for a specific state-action pair\n",
    "\n",
    "    for episode in range(num_episodes):\n",
    "        state = env.reset()\n",
    "        state = int(state.item()) if hasattr(state, 'item') else int(state)\n",
    "        done = False\n",
    "        total_reward = 0\n",
    "\n",
    "        while not done:\n",
    "            if np.random.rand() < epsilon:\n",
    "                action = env.action_space.sample()  # Exploration\n",
    "            else:\n",
    "                action = np.argmax(q_table[state])  # Exploitation\n",
    "\n",
    "            next_state, reward, done, _ = env.step(action)\n",
    "            next_state = int(next_state.item()) if hasattr(next_state, 'item') else int(next_state)\n",
    "\n",
    "            # Q-value update\n",
    "            q_table[state, action] += alpha * (reward + gamma * np.max(q_table[next_state]) - q_table[state, action])\n",
    "\n",
    "            state = next_state\n",
    "            total_reward += reward\n",
    "\n",
    "        rewards_history.append(total_reward)\n",
    "\n",
    "    # Plot the rewards and Q-values\n",
    "    plt.figure(figsize=(12, 6))\n",
    "\n",
    "    # Plot rewards\n",
    "    plt.subplot(1, 2, 1)\n",
    "    plt.plot(rewards_history)\n",
    "    plt.xlabel('Episode')\n",
    "    plt.ylabel('Total Reward')\n",
    "    plt.title('Training Progress')\n",
    "\n",
    "    # Plot Q-values for the specified state-action pair\n",
    "    plt.subplot(1, 2, 2)\n",
    "    plt.plot(q_value_history)\n",
    "    plt.xlabel('Episode')\n",
    "    plt.ylabel('Q-value')\n",
    "    plt.title(f'Q-values for State-Action Pair {plot_state}')\n",
    "\n",
    "    plt.tight_layout()\n",
    "    plt.show()\n",
    "\n",
    "    return q_table, rewards_history"
   ]
  },
  {
   "cell_type": "code",
   "execution_count": 17,
   "id": "3f849954-0713-44dc-bb19-a685f968191b",
   "metadata": {},
   "outputs": [],
   "source": [
    "# Function to visualize Q-values for a specific state-action pair\n",
    "def visualize_q_values(q_table, state_action_pair):\n",
    "    plt.plot(q_table[state_action_pair[0], state_action_pair[1]])\n",
    "    plt.xlabel('Episode')\n",
    "    plt.ylabel('Q-value')\n",
    "    plt.title(f'Q-values for State-Action Pair {state_action_pair}')\n",
    "    plt.show()"
   ]
  },
  {
   "cell_type": "markdown",
   "id": "4f294a23-057d-4888-9d9f-499e445258d5",
   "metadata": {},
   "source": [
    "# Training the agent"
   ]
  },
  {
   "cell_type": "code",
   "execution_count": 18,
   "id": "bf250517-b6f2-4b5e-8719-b1a46063a1c5",
   "metadata": {},
   "outputs": [
    {
     "ename": "TypeError",
     "evalue": "Random.random() takes no arguments (3 given)",
     "output_type": "error",
     "traceback": [
      "\u001b[1;31m---------------------------------------------------------------------------\u001b[0m",
      "\u001b[1;31mTypeError\u001b[0m                                 Traceback (most recent call last)",
      "Cell \u001b[1;32mIn[18], line 1\u001b[0m\n\u001b[1;32m----> 1\u001b[0m env \u001b[38;5;241m=\u001b[39m \u001b[43mDamGateControlEnv\u001b[49m\u001b[43m(\u001b[49m\u001b[43m)\u001b[49m\n",
      "Cell \u001b[1;32mIn[15], line 5\u001b[0m, in \u001b[0;36mDamGateControlEnv.__init__\u001b[1;34m(self, num_gates, num_levels, capacity)\u001b[0m\n\u001b[0;32m      3\u001b[0m \u001b[38;5;28mself\u001b[39m\u001b[38;5;241m.\u001b[39mnum_gates \u001b[38;5;241m=\u001b[39m num_gates\n\u001b[0;32m      4\u001b[0m \u001b[38;5;28mself\u001b[39m\u001b[38;5;241m.\u001b[39mnum_levels \u001b[38;5;241m=\u001b[39m num_levels\n\u001b[1;32m----> 5\u001b[0m \u001b[38;5;28mself\u001b[39m\u001b[38;5;241m.\u001b[39mtotal_inflow \u001b[38;5;241m=\u001b[39m change_variable_every_second(\u001b[43mrandom\u001b[49m\u001b[38;5;241;43m.\u001b[39;49m\u001b[43mrandom\u001b[49m\u001b[43m(\u001b[49m\u001b[38;5;241;43m-\u001b[39;49m\u001b[38;5;241;43m1\u001b[39;49m\u001b[43m,\u001b[49m\u001b[38;5;241;43m1\u001b[39;49m\u001b[43m,\u001b[49m\u001b[38;5;241;43m0.01\u001b[39;49m\u001b[43m)\u001b[49m)\n\u001b[0;32m      6\u001b[0m \u001b[38;5;28mself\u001b[39m\u001b[38;5;241m.\u001b[39mcapacity \u001b[38;5;241m+\u001b[39m\u001b[38;5;241m=\u001b[39m \u001b[38;5;28mself\u001b[39m\u001b[38;5;241m.\u001b[39mtotal_inflow\n\u001b[0;32m      7\u001b[0m \u001b[38;5;28mself\u001b[39m\u001b[38;5;241m.\u001b[39mobservation_space \u001b[38;5;241m=\u001b[39m Box(low \u001b[38;5;241m=\u001b[39m np\u001b[38;5;241m.\u001b[39marray([\u001b[38;5;241m0.0\u001b[39m]) , high \u001b[38;5;241m=\u001b[39m np\u001b[38;5;241m.\u001b[39marray([\u001b[38;5;241m445.0\u001b[39m]))\n",
      "\u001b[1;31mTypeError\u001b[0m: Random.random() takes no arguments (3 given)"
     ]
    }
   ],
   "source": [
    "env = DamGateControlEnv()"
   ]
  },
  {
   "cell_type": "code",
   "execution_count": 10,
   "id": "8e6c2359-b8eb-4fed-a684-86b940b8eec2",
   "metadata": {},
   "outputs": [
    {
     "ename": "NameError",
     "evalue": "name 'env' is not defined",
     "output_type": "error",
     "traceback": [
      "\u001b[1;31m---------------------------------------------------------------------------\u001b[0m",
      "\u001b[1;31mNameError\u001b[0m                                 Traceback (most recent call last)",
      "Cell \u001b[1;32mIn[10], line 1\u001b[0m\n\u001b[1;32m----> 1\u001b[0m trained_q_table, rewards_history \u001b[38;5;241m=\u001b[39m q_learning(\u001b[43menv\u001b[49m)\n",
      "\u001b[1;31mNameError\u001b[0m: name 'env' is not defined"
     ]
    }
   ],
   "source": [
    "trained_q_table, rewards_history = q_learning(env)"
   ]
  },
  {
   "cell_type": "code",
   "execution_count": null,
   "id": "5b5eda9c-3986-4a80-b9a8-f8a84fae7610",
   "metadata": {},
   "outputs": [],
   "source": [
    "visualize_q_values(trained_q_table, (0, 0))"
   ]
  },
  {
   "cell_type": "markdown",
   "id": "b38dff2d-0668-4998-ad2f-e622cfb56c01",
   "metadata": {},
   "source": [
    "# Testing the trained agent"
   ]
  },
  {
   "cell_type": "code",
   "execution_count": null,
   "id": "d70b8207-c05c-412f-ad1b-90012d08cb63",
   "metadata": {},
   "outputs": [],
   "source": [
    "state = env.reset()\n",
    "state = int(state.item()) if hasattr(state, 'item') else int(state)\n",
    "done = False"
   ]
  },
  {
   "cell_type": "code",
   "execution_count": null,
   "id": "5a5504dc-7dd4-4051-b3e8-4f08e0dc5776",
   "metadata": {},
   "outputs": [],
   "source": [
    "while not done:\n",
    "    action = np.argmax(trained_q_table[state])\n",
    "    next_state, reward, done, _ = env.step(action)\n",
    "    next_state = int(next_state.item()) if hasattr(next_state, 'item') else int(next_state)\n",
    "\n",
    "    print(f\"Current State: {state}, Action: {action}, Next State: {next_state}, Reward: {reward}\")\n",
    "\n",
    "    state = next_state"
   ]
  }
 ],
 "metadata": {
  "kernelspec": {
   "display_name": "Python 3 (ipykernel)",
   "language": "python",
   "name": "python3"
  },
  "language_info": {
   "codemirror_mode": {
    "name": "ipython",
    "version": 3
   },
   "file_extension": ".py",
   "mimetype": "text/x-python",
   "name": "python",
   "nbconvert_exporter": "python",
   "pygments_lexer": "ipython3",
   "version": "3.12.0"
  }
 },
 "nbformat": 4,
 "nbformat_minor": 5
}
