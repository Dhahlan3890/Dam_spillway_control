{
 "cells": [
  {
   "cell_type": "code",
   "execution_count": 1,
   "id": "e21b2d5b-cb97-47d8-9103-ceb65eeb7859",
   "metadata": {},
   "outputs": [],
   "source": [
    "import numpy as np\n",
    "import pandas as pd\n",
    "import seaborn as sns\n",
    "import warnings\n",
    "warnings.filterwarnings(\"ignore\")\n",
    "from spillway_opening_function import control_gates"
   ]
  },
  {
   "cell_type": "code",
   "execution_count": 2,
   "id": "dfe8b6f7-6514-4f9b-960e-52885a2f5eaf",
   "metadata": {},
   "outputs": [],
   "source": [
    "data = pd.read_csv(\"Spill reservoir Data.csv\")"
   ]
  },
  {
   "cell_type": "code",
   "execution_count": 3,
   "id": "409a89ad-0cf8-4dc3-8abe-fc3889627eae",
   "metadata": {},
   "outputs": [
    {
     "data": {
      "text/html": [
       "<div>\n",
       "<style scoped>\n",
       "    .dataframe tbody tr th:only-of-type {\n",
       "        vertical-align: middle;\n",
       "    }\n",
       "\n",
       "    .dataframe tbody tr th {\n",
       "        vertical-align: top;\n",
       "    }\n",
       "\n",
       "    .dataframe thead th {\n",
       "        text-align: right;\n",
       "    }\n",
       "</style>\n",
       "<table border=\"1\" class=\"dataframe\">\n",
       "  <thead>\n",
       "    <tr style=\"text-align: right;\">\n",
       "      <th></th>\n",
       "      <th>Time (GMT)</th>\n",
       "      <th>Time (LCT at India Standard Time)</th>\n",
       "      <th>Reservoir Level (m msl)</th>\n",
       "      <th>Reservoir Capacity  (mcm)</th>\n",
       "      <th>Reservoir Area(KM2)</th>\n",
       "      <th>Spillway DISCHARGE (M3/S)</th>\n",
       "    </tr>\n",
       "  </thead>\n",
       "  <tbody>\n",
       "    <tr>\n",
       "      <th>0</th>\n",
       "      <td>46:07.0</td>\n",
       "      <td>24-Oct-2022 15:16:07.000</td>\n",
       "      <td>436.899994</td>\n",
       "      <td>695.200012</td>\n",
       "      <td>23.700001</td>\n",
       "      <td>0.0</td>\n",
       "    </tr>\n",
       "    <tr>\n",
       "      <th>1</th>\n",
       "      <td>50:00.0</td>\n",
       "      <td>24-Oct-2022 15:20:00.000</td>\n",
       "      <td>436.911987</td>\n",
       "      <td>695.343994</td>\n",
       "      <td>23.700001</td>\n",
       "      <td>0.0</td>\n",
       "    </tr>\n",
       "    <tr>\n",
       "      <th>2</th>\n",
       "      <td>00:00.0</td>\n",
       "      <td>24-Oct-2022 15:30:00.000</td>\n",
       "      <td>436.917999</td>\n",
       "      <td>695.632019</td>\n",
       "      <td>23.700001</td>\n",
       "      <td>0.0</td>\n",
       "    </tr>\n",
       "    <tr>\n",
       "      <th>3</th>\n",
       "      <td>10:00.0</td>\n",
       "      <td>24-Oct-2022 15:40:00.000</td>\n",
       "      <td>436.917999</td>\n",
       "      <td>695.632019</td>\n",
       "      <td>23.700001</td>\n",
       "      <td>0.0</td>\n",
       "    </tr>\n",
       "    <tr>\n",
       "      <th>4</th>\n",
       "      <td>20:00.0</td>\n",
       "      <td>24-Oct-2022 15:50:00.000</td>\n",
       "      <td>436.917999</td>\n",
       "      <td>695.632019</td>\n",
       "      <td>23.700001</td>\n",
       "      <td>0.0</td>\n",
       "    </tr>\n",
       "    <tr>\n",
       "      <th>...</th>\n",
       "      <td>...</td>\n",
       "      <td>...</td>\n",
       "      <td>...</td>\n",
       "      <td>...</td>\n",
       "      <td>...</td>\n",
       "      <td>...</td>\n",
       "    </tr>\n",
       "    <tr>\n",
       "      <th>4459</th>\n",
       "      <td>00:00.0</td>\n",
       "      <td>24-Nov-2022 14:30:00.000</td>\n",
       "      <td>436.156006</td>\n",
       "      <td>677.544006</td>\n",
       "      <td>23.320000</td>\n",
       "      <td>0.0</td>\n",
       "    </tr>\n",
       "    <tr>\n",
       "      <th>4460</th>\n",
       "      <td>10:00.0</td>\n",
       "      <td>24-Nov-2022 14:40:00.000</td>\n",
       "      <td>436.156006</td>\n",
       "      <td>677.544006</td>\n",
       "      <td>23.320000</td>\n",
       "      <td>0.0</td>\n",
       "    </tr>\n",
       "    <tr>\n",
       "      <th>4461</th>\n",
       "      <td>20:00.0</td>\n",
       "      <td>24-Nov-2022 14:50:00.000</td>\n",
       "      <td>436.156006</td>\n",
       "      <td>677.544006</td>\n",
       "      <td>23.320000</td>\n",
       "      <td>0.0</td>\n",
       "    </tr>\n",
       "    <tr>\n",
       "      <th>4462</th>\n",
       "      <td>30:00.0</td>\n",
       "      <td>24-Nov-2022 15:00:00.000</td>\n",
       "      <td>436.156006</td>\n",
       "      <td>677.544006</td>\n",
       "      <td>23.320000</td>\n",
       "      <td>0.0</td>\n",
       "    </tr>\n",
       "    <tr>\n",
       "      <th>4463</th>\n",
       "      <td>40:00.0</td>\n",
       "      <td>24-Nov-2022 15:10:00.000</td>\n",
       "      <td>436.156006</td>\n",
       "      <td>677.544006</td>\n",
       "      <td>23.320000</td>\n",
       "      <td>0.0</td>\n",
       "    </tr>\n",
       "  </tbody>\n",
       "</table>\n",
       "<p>4464 rows × 6 columns</p>\n",
       "</div>"
      ],
      "text/plain": [
       "      Time (GMT)  Time (LCT at India Standard Time)  Reservoir Level (m msl)  \\\n",
       "0        46:07.0           24-Oct-2022 15:16:07.000               436.899994   \n",
       "1        50:00.0           24-Oct-2022 15:20:00.000               436.911987   \n",
       "2        00:00.0           24-Oct-2022 15:30:00.000               436.917999   \n",
       "3        10:00.0           24-Oct-2022 15:40:00.000               436.917999   \n",
       "4        20:00.0           24-Oct-2022 15:50:00.000               436.917999   \n",
       "...          ...                                ...                      ...   \n",
       "4459     00:00.0           24-Nov-2022 14:30:00.000               436.156006   \n",
       "4460     10:00.0           24-Nov-2022 14:40:00.000               436.156006   \n",
       "4461     20:00.0           24-Nov-2022 14:50:00.000               436.156006   \n",
       "4462     30:00.0           24-Nov-2022 15:00:00.000               436.156006   \n",
       "4463     40:00.0           24-Nov-2022 15:10:00.000               436.156006   \n",
       "\n",
       "      Reservoir Capacity  (mcm)  Reservoir Area(KM2)  \\\n",
       "0                    695.200012            23.700001   \n",
       "1                    695.343994            23.700001   \n",
       "2                    695.632019            23.700001   \n",
       "3                    695.632019            23.700001   \n",
       "4                    695.632019            23.700001   \n",
       "...                         ...                  ...   \n",
       "4459                 677.544006            23.320000   \n",
       "4460                 677.544006            23.320000   \n",
       "4461                 677.544006            23.320000   \n",
       "4462                 677.544006            23.320000   \n",
       "4463                 677.544006            23.320000   \n",
       "\n",
       "      Spillway DISCHARGE (M3/S)  \n",
       "0                           0.0  \n",
       "1                           0.0  \n",
       "2                           0.0  \n",
       "3                           0.0  \n",
       "4                           0.0  \n",
       "...                         ...  \n",
       "4459                        0.0  \n",
       "4460                        0.0  \n",
       "4461                        0.0  \n",
       "4462                        0.0  \n",
       "4463                        0.0  \n",
       "\n",
       "[4464 rows x 6 columns]"
      ]
     },
     "execution_count": 3,
     "metadata": {},
     "output_type": "execute_result"
    }
   ],
   "source": [
    "data"
   ]
  },
  {
   "cell_type": "code",
   "execution_count": 4,
   "id": "7dd16cd5-3fe1-4c99-ad37-d104cd7a2086",
   "metadata": {},
   "outputs": [],
   "source": [
    "heights = data[\"Reservoir Level (m msl)\"].values"
   ]
  },
  {
   "cell_type": "code",
   "execution_count": 5,
   "id": "68e857a7-db4e-46a8-97b1-c6766bddc201",
   "metadata": {},
   "outputs": [
    {
     "data": {
      "text/plain": [
       "array([436.8999939, 436.9119873, 436.9179993, ..., 436.1560059,\n",
       "       436.1560059, 436.1560059])"
      ]
     },
     "execution_count": 5,
     "metadata": {},
     "output_type": "execute_result"
    }
   ],
   "source": [
    "heights"
   ]
  },
  {
   "cell_type": "code",
   "execution_count": 6,
   "id": "e6a6be9d-01ff-4fcd-8bf3-62306ae3aaa5",
   "metadata": {},
   "outputs": [],
   "source": [
    "heights = [437.9, 438, 438.006, 438.45, 438.54, 438.25]"
   ]
  },
  {
   "cell_type": "code",
   "execution_count": 7,
   "id": "9033851d-334c-4bae-85f9-3aab79971f12",
   "metadata": {},
   "outputs": [
    {
     "data": {
      "text/plain": [
       "[1,\n",
       " 1,\n",
       " 1,\n",
       " 1,\n",
       " 1,\n",
       " 1,\n",
       " 1,\n",
       " 1,\n",
       " 1,\n",
       " 1,\n",
       " 1,\n",
       " 1,\n",
       " 1,\n",
       " 0,\n",
       " 0,\n",
       " 0,\n",
       " 0,\n",
       " 0,\n",
       " 0,\n",
       " 0,\n",
       " 0,\n",
       " 0,\n",
       " 0,\n",
       " 0,\n",
       " 0,\n",
       " 0,\n",
       " 0,\n",
       " 0,\n",
       " 0,\n",
       " 0,\n",
       " 0,\n",
       " 0]"
      ]
     },
     "execution_count": 7,
     "metadata": {},
     "output_type": "execute_result"
    }
   ],
   "source": [
    "control_gates(heights)"
   ]
  },
  {
   "cell_type": "code",
   "execution_count": null,
   "id": "11eddc00-1cb9-48be-ab62-3fa9600db12d",
   "metadata": {},
   "outputs": [],
   "source": []
  }
 ],
 "metadata": {
  "kernelspec": {
   "display_name": "Python 3 (ipykernel)",
   "language": "python",
   "name": "python3"
  },
  "language_info": {
   "codemirror_mode": {
    "name": "ipython",
    "version": 3
   },
   "file_extension": ".py",
   "mimetype": "text/x-python",
   "name": "python",
   "nbconvert_exporter": "python",
   "pygments_lexer": "ipython3",
   "version": "3.12.0"
  }
 },
 "nbformat": 4,
 "nbformat_minor": 5
}
