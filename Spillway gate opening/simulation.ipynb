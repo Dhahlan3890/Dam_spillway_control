{
 "cells": [
  {
   "cell_type": "code",
   "execution_count": 5,
   "id": "52349a42-0a2c-4e87-bcea-8528d7f32357",
   "metadata": {},
   "outputs": [
    {
     "ename": "SystemExit",
     "evalue": "",
     "output_type": "error",
     "traceback": [
      "An exception has occurred, use %tb to see the full traceback.\n",
      "\u001b[1;31mSystemExit\u001b[0m\n"
     ]
    }
   ],
   "source": [
    "import pygame\n",
    "import sys\n",
    "\n",
    "pygame.init()\n",
    "\n",
    "# Constants\n",
    "WIDTH, HEIGHT = 800, 600\n",
    "FPS = 60\n",
    "BOTTLE_COLOR = (0, 128, 255)\n",
    "WATER_COLOR = (0, 0, 255)\n",
    "GATE_COLOR = (255, 0, 0)\n",
    "\n",
    "# Initialize screen\n",
    "screen = pygame.display.set_mode((WIDTH, HEIGHT))\n",
    "pygame.display.set_caption(\"Water Bottle Game\")\n",
    "clock = pygame.time.Clock()\n",
    "\n",
    "class Bottle:\n",
    "    def __init__(self):\n",
    "        self.width = 150\n",
    "        self.height = 200\n",
    "        self.x = (WIDTH - self.width) // 2\n",
    "        self.y = HEIGHT - self.height - 50\n",
    "\n",
    "    def draw(self):\n",
    "        pygame.draw.rect(screen, BOTTLE_COLOR, (self.x, self.y, self.width, self.height))\n",
    "\n",
    "class Water:\n",
    "    def __init__(self, bottle):\n",
    "        self.bottle = bottle\n",
    "        self.level = 100\n",
    "\n",
    "    def draw(self):\n",
    "        water_height = self.bottle.height * (self.level / 100)\n",
    "        pygame.draw.rect(screen, WATER_COLOR, (self.bottle.x, self.bottle.y + self.bottle.height - water_height, self.bottle.width, water_height))\n",
    "\n",
    "class Gate:\n",
    "    def __init__(self, x):\n",
    "        self.width = 10\n",
    "        self.height = 20\n",
    "        self.x = x\n",
    "        self.y = HEIGHT - 70\n",
    "\n",
    "    def draw(self):\n",
    "        pygame.draw.rect(screen, GATE_COLOR, (self.x, self.y, self.width, self.height))\n",
    "\n",
    "bottle = Bottle()\n",
    "water = Water(bottle)\n",
    "\n",
    "# Create 8 gates\n",
    "gates = [Gate(x) for x in range(bottle.x, bottle.x + bottle.width, bottle.width // 8)]\n",
    "\n",
    "running = True\n",
    "while running:\n",
    "    for event in pygame.event.get():\n",
    "        if event.type == pygame.QUIT:\n",
    "            running = False\n",
    "        elif event.type == pygame.KEYDOWN:\n",
    "            if event.key == pygame.K_SPACE:\n",
    "                water.level -= 10  # Simulate putting a hole in the bottle\n",
    "\n",
    "    screen.fill((255, 255, 255))\n",
    "\n",
    "    bottle.draw()\n",
    "    water.draw()\n",
    "\n",
    "    for gate in gates:\n",
    "        gate.draw()\n",
    "\n",
    "    pygame.display.flip()\n",
    "    clock.tick(FPS)\n",
    "\n",
    "pygame.quit()\n",
    "sys.exit()\n"
   ]
  },
  {
   "cell_type": "code",
   "execution_count": null,
   "id": "c92a0154-b025-440b-b305-d934aaa1fcab",
   "metadata": {},
   "outputs": [],
   "source": []
  },
  {
   "cell_type": "code",
   "execution_count": null,
   "id": "faba1355-f0f1-41ca-b4b6-099a1b680fa2",
   "metadata": {},
   "outputs": [],
   "source": []
  }
 ],
 "metadata": {
  "kernelspec": {
   "display_name": "Python 3 (ipykernel)",
   "language": "python",
   "name": "python3"
  },
  "language_info": {
   "codemirror_mode": {
    "name": "ipython",
    "version": 3
   },
   "file_extension": ".py",
   "mimetype": "text/x-python",
   "name": "python",
   "nbconvert_exporter": "python",
   "pygments_lexer": "ipython3",
   "version": "3.12.0"
  }
 },
 "nbformat": 4,
 "nbformat_minor": 5
}
