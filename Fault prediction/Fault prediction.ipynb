{
 "cells": [
  {
   "cell_type": "code",
   "execution_count": 1,
   "id": "b0eb35f2-fc1e-463d-b3dd-3f40930d1075",
   "metadata": {},
   "outputs": [],
   "source": [
    "import numpy as np\n",
    "import matplotlib.pyplot as plt\n",
    "from sklearn.ensemble import IsolationForest\n",
    "import pickle\n",
    "import pandas as pd\n",
    "from sklearn.impute import SimpleImputer"
   ]
  },
  {
   "cell_type": "markdown",
   "id": "d06d0ae6-bd06-4bca-abf1-6efbb9dd1043",
   "metadata": {},
   "source": [
    "# Data Collection"
   ]
  },
  {
   "cell_type": "code",
   "execution_count": 2,
   "id": "7d2782ff-b8be-4a10-b611-81e7c88750f4",
   "metadata": {},
   "outputs": [],
   "source": [
    "data = pickle.load(open('data_without_cluster.pickle',mode='rb'))"
   ]
  },
  {
   "cell_type": "markdown",
   "id": "7dc77b6a-62f4-4dd2-ae18-d98868e2a122",
   "metadata": {},
   "source": [
    "# Data preprocessing"
   ]
  },
  {
   "cell_type": "code",
   "execution_count": 3,
   "id": "6125ee2d-fc13-493c-bd4a-4de3c9f5f6b6",
   "metadata": {},
   "outputs": [],
   "source": [
    "data.drop(columns=['Day', 'Month', 'Year', 'HMIS'], inplace=True)"
   ]
  },
  {
   "cell_type": "code",
   "execution_count": 4,
   "id": "2d92ba53-991b-471c-a937-8f34e1d2d32a",
   "metadata": {},
   "outputs": [],
   "source": [
    "data = data.dropna()"
   ]
  },
  {
   "cell_type": "code",
   "execution_count": 5,
   "id": "f6da35e9-de58-4011-af5a-7a8ddf0407ee",
   "metadata": {},
   "outputs": [],
   "source": [
    "data = data.apply(pd.to_numeric, errors='coerce')"
   ]
  },
  {
   "cell_type": "code",
   "execution_count": 6,
   "id": "280de57f-a15e-4850-962d-e6fae2c7fcd1",
   "metadata": {},
   "outputs": [
    {
     "data": {
      "text/html": [
       "<div>\n",
       "<style scoped>\n",
       "    .dataframe tbody tr th:only-of-type {\n",
       "        vertical-align: middle;\n",
       "    }\n",
       "\n",
       "    .dataframe tbody tr th {\n",
       "        vertical-align: top;\n",
       "    }\n",
       "\n",
       "    .dataframe thead th {\n",
       "        text-align: right;\n",
       "    }\n",
       "</style>\n",
       "<table border=\"1\" class=\"dataframe\">\n",
       "  <thead>\n",
       "    <tr style=\"text-align: right;\">\n",
       "      <th></th>\n",
       "      <th>CURRENT</th>\n",
       "      <th>GROSS</th>\n",
       "      <th>DEAD</th>\n",
       "      <th>Spillway Discharge</th>\n",
       "      <th>BOTTOM OUTLET</th>\n",
       "      <th>Sleeve Valve</th>\n",
       "      <th>TOTAL OUT FLOW (MCM)</th>\n",
       "      <th>INFLOW \\n(MCM)</th>\n",
       "      <th>RAIN FALL\\nmm</th>\n",
       "      <th>SPILLWAY SILL LEVEL</th>\n",
       "      <th>Sleeve Valve Discharge (MCM)</th>\n",
       "    </tr>\n",
       "  </thead>\n",
       "  <tbody>\n",
       "    <tr>\n",
       "      <th>0</th>\n",
       "      <td>438.09</td>\n",
       "      <td>722.0</td>\n",
       "      <td>34.0</td>\n",
       "      <td>0.00</td>\n",
       "      <td>0.0</td>\n",
       "      <td>0.000</td>\n",
       "      <td>0.000</td>\n",
       "      <td>0.000</td>\n",
       "      <td>0.0</td>\n",
       "      <td>430.0</td>\n",
       "      <td>0.0</td>\n",
       "    </tr>\n",
       "    <tr>\n",
       "      <th>1</th>\n",
       "      <td>438.02</td>\n",
       "      <td>722.0</td>\n",
       "      <td>34.0</td>\n",
       "      <td>0.00</td>\n",
       "      <td>0.0</td>\n",
       "      <td>0.000</td>\n",
       "      <td>0.000</td>\n",
       "      <td>0.000</td>\n",
       "      <td>0.0</td>\n",
       "      <td>430.0</td>\n",
       "      <td>0.0</td>\n",
       "    </tr>\n",
       "    <tr>\n",
       "      <th>2</th>\n",
       "      <td>438.00</td>\n",
       "      <td>722.0</td>\n",
       "      <td>34.0</td>\n",
       "      <td>0.00</td>\n",
       "      <td>0.0</td>\n",
       "      <td>0.000</td>\n",
       "      <td>0.000</td>\n",
       "      <td>0.000</td>\n",
       "      <td>0.0</td>\n",
       "      <td>430.0</td>\n",
       "      <td>0.0</td>\n",
       "    </tr>\n",
       "    <tr>\n",
       "      <th>3</th>\n",
       "      <td>438.01</td>\n",
       "      <td>722.0</td>\n",
       "      <td>34.0</td>\n",
       "      <td>9.76</td>\n",
       "      <td>0.0</td>\n",
       "      <td>0.000</td>\n",
       "      <td>21.630</td>\n",
       "      <td>0.000</td>\n",
       "      <td>0.0</td>\n",
       "      <td>430.0</td>\n",
       "      <td>0.0</td>\n",
       "    </tr>\n",
       "    <tr>\n",
       "      <th>4</th>\n",
       "      <td>437.98</td>\n",
       "      <td>722.0</td>\n",
       "      <td>34.0</td>\n",
       "      <td>6.06</td>\n",
       "      <td>0.0</td>\n",
       "      <td>0.000</td>\n",
       "      <td>17.210</td>\n",
       "      <td>0.000</td>\n",
       "      <td>0.0</td>\n",
       "      <td>430.0</td>\n",
       "      <td>0.0</td>\n",
       "    </tr>\n",
       "    <tr>\n",
       "      <th>...</th>\n",
       "      <td>...</td>\n",
       "      <td>...</td>\n",
       "      <td>...</td>\n",
       "      <td>...</td>\n",
       "      <td>...</td>\n",
       "      <td>...</td>\n",
       "      <td>...</td>\n",
       "      <td>...</td>\n",
       "      <td>...</td>\n",
       "      <td>...</td>\n",
       "      <td>...</td>\n",
       "    </tr>\n",
       "    <tr>\n",
       "      <th>3016</th>\n",
       "      <td>417.84</td>\n",
       "      <td>722.0</td>\n",
       "      <td>34.0</td>\n",
       "      <td>0.00</td>\n",
       "      <td>0.0</td>\n",
       "      <td>0.057</td>\n",
       "      <td>6.698</td>\n",
       "      <td>1.758</td>\n",
       "      <td>15.3</td>\n",
       "      <td>484.0</td>\n",
       "      <td>0.0</td>\n",
       "    </tr>\n",
       "    <tr>\n",
       "      <th>3017</th>\n",
       "      <td>417.48</td>\n",
       "      <td>722.0</td>\n",
       "      <td>34.0</td>\n",
       "      <td>0.00</td>\n",
       "      <td>0.0</td>\n",
       "      <td>0.057</td>\n",
       "      <td>7.006</td>\n",
       "      <td>1.506</td>\n",
       "      <td>0.9</td>\n",
       "      <td>485.0</td>\n",
       "      <td>0.0</td>\n",
       "    </tr>\n",
       "    <tr>\n",
       "      <th>3018</th>\n",
       "      <td>417.08</td>\n",
       "      <td>722.0</td>\n",
       "      <td>34.0</td>\n",
       "      <td>0.00</td>\n",
       "      <td>0.0</td>\n",
       "      <td>0.057</td>\n",
       "      <td>4.665</td>\n",
       "      <td>2.375</td>\n",
       "      <td>14.5</td>\n",
       "      <td>486.0</td>\n",
       "      <td>0.0</td>\n",
       "    </tr>\n",
       "    <tr>\n",
       "      <th>3019</th>\n",
       "      <td>416.91</td>\n",
       "      <td>722.0</td>\n",
       "      <td>34.0</td>\n",
       "      <td>0.00</td>\n",
       "      <td>0.0</td>\n",
       "      <td>0.057</td>\n",
       "      <td>4.408</td>\n",
       "      <td>1.578</td>\n",
       "      <td>0.0</td>\n",
       "      <td>487.0</td>\n",
       "      <td>0.0</td>\n",
       "    </tr>\n",
       "    <tr>\n",
       "      <th>3020</th>\n",
       "      <td>416.70</td>\n",
       "      <td>722.0</td>\n",
       "      <td>34.0</td>\n",
       "      <td>0.00</td>\n",
       "      <td>0.0</td>\n",
       "      <td>0.057</td>\n",
       "      <td>7.779</td>\n",
       "      <td>1.049</td>\n",
       "      <td>0.0</td>\n",
       "      <td>488.0</td>\n",
       "      <td>0.0</td>\n",
       "    </tr>\n",
       "  </tbody>\n",
       "</table>\n",
       "<p>2484 rows × 11 columns</p>\n",
       "</div>"
      ],
      "text/plain": [
       "      CURRENT  GROSS  DEAD  Spillway Discharge  BOTTOM OUTLET  Sleeve Valve  \\\n",
       "0      438.09  722.0  34.0                0.00            0.0         0.000   \n",
       "1      438.02  722.0  34.0                0.00            0.0         0.000   \n",
       "2      438.00  722.0  34.0                0.00            0.0         0.000   \n",
       "3      438.01  722.0  34.0                9.76            0.0         0.000   \n",
       "4      437.98  722.0  34.0                6.06            0.0         0.000   \n",
       "...       ...    ...   ...                 ...            ...           ...   \n",
       "3016   417.84  722.0  34.0                0.00            0.0         0.057   \n",
       "3017   417.48  722.0  34.0                0.00            0.0         0.057   \n",
       "3018   417.08  722.0  34.0                0.00            0.0         0.057   \n",
       "3019   416.91  722.0  34.0                0.00            0.0         0.057   \n",
       "3020   416.70  722.0  34.0                0.00            0.0         0.057   \n",
       "\n",
       "      TOTAL OUT FLOW (MCM)  INFLOW \\n(MCM)  RAIN FALL\\nmm  \\\n",
       "0                    0.000           0.000            0.0   \n",
       "1                    0.000           0.000            0.0   \n",
       "2                    0.000           0.000            0.0   \n",
       "3                   21.630           0.000            0.0   \n",
       "4                   17.210           0.000            0.0   \n",
       "...                    ...             ...            ...   \n",
       "3016                 6.698           1.758           15.3   \n",
       "3017                 7.006           1.506            0.9   \n",
       "3018                 4.665           2.375           14.5   \n",
       "3019                 4.408           1.578            0.0   \n",
       "3020                 7.779           1.049            0.0   \n",
       "\n",
       "      SPILLWAY SILL LEVEL  Sleeve Valve Discharge (MCM)  \n",
       "0                   430.0                           0.0  \n",
       "1                   430.0                           0.0  \n",
       "2                   430.0                           0.0  \n",
       "3                   430.0                           0.0  \n",
       "4                   430.0                           0.0  \n",
       "...                   ...                           ...  \n",
       "3016                484.0                           0.0  \n",
       "3017                485.0                           0.0  \n",
       "3018                486.0                           0.0  \n",
       "3019                487.0                           0.0  \n",
       "3020                488.0                           0.0  \n",
       "\n",
       "[2484 rows x 11 columns]"
      ]
     },
     "execution_count": 6,
     "metadata": {},
     "output_type": "execute_result"
    }
   ],
   "source": [
    "data"
   ]
  },
  {
   "cell_type": "markdown",
   "id": "39ad8b56-f654-4ed6-a435-e4c5ecefb9be",
   "metadata": {},
   "source": [
    "# Normalization"
   ]
  },
  {
   "cell_type": "code",
   "execution_count": 7,
   "id": "fb1fee31-9e38-4bf2-b55c-f2d599300e05",
   "metadata": {},
   "outputs": [],
   "source": [
    "from sklearn.preprocessing import MinMaxScaler"
   ]
  },
  {
   "cell_type": "code",
   "execution_count": 8,
   "id": "2384232e-e2c1-4988-b32b-f70b603c0899",
   "metadata": {},
   "outputs": [],
   "source": [
    "# Initialize the MinMaxScaler\n",
    "scaler = MinMaxScaler()\n",
    "\n",
    "# Fit and transform the data\n",
    "data = scaler.fit_transform(data)"
   ]
  },
  {
   "cell_type": "code",
   "execution_count": 9,
   "id": "28c08a3e-5418-424d-b4e1-5c413f563bee",
   "metadata": {},
   "outputs": [
    {
     "data": {
      "text/plain": [
       "array([[0.99974975, 1.        , 0.        , ..., 0.        , 0.        ,\n",
       "        0.        ],\n",
       "       [0.997998  , 1.        , 0.        , ..., 0.        , 0.        ,\n",
       "        0.        ],\n",
       "       [0.9974975 , 1.        , 0.        , ..., 0.        , 0.        ,\n",
       "        0.        ],\n",
       "       ...,\n",
       "       [0.47397397, 1.        , 0.        , ..., 0.13278388, 0.96551724,\n",
       "        0.        ],\n",
       "       [0.46971972, 1.        , 0.        , ..., 0.        , 0.98275862,\n",
       "        0.        ],\n",
       "       [0.46446446, 1.        , 0.        , ..., 0.        , 1.        ,\n",
       "        0.        ]])"
      ]
     },
     "execution_count": 9,
     "metadata": {},
     "output_type": "execute_result"
    }
   ],
   "source": [
    "data"
   ]
  },
  {
   "cell_type": "markdown",
   "id": "844e7858-de87-48d5-a72b-51e04ce3ac83",
   "metadata": {},
   "source": [
    "# Modeling"
   ]
  },
  {
   "cell_type": "code",
   "execution_count": 10,
   "id": "fd81f4a7-c2dc-4af1-ab2d-29920cd3800c",
   "metadata": {},
   "outputs": [
    {
     "data": {
      "text/html": [
       "<style>#sk-container-id-1 {color: black;}#sk-container-id-1 pre{padding: 0;}#sk-container-id-1 div.sk-toggleable {background-color: white;}#sk-container-id-1 label.sk-toggleable__label {cursor: pointer;display: block;width: 100%;margin-bottom: 0;padding: 0.3em;box-sizing: border-box;text-align: center;}#sk-container-id-1 label.sk-toggleable__label-arrow:before {content: \"▸\";float: left;margin-right: 0.25em;color: #696969;}#sk-container-id-1 label.sk-toggleable__label-arrow:hover:before {color: black;}#sk-container-id-1 div.sk-estimator:hover label.sk-toggleable__label-arrow:before {color: black;}#sk-container-id-1 div.sk-toggleable__content {max-height: 0;max-width: 0;overflow: hidden;text-align: left;background-color: #f0f8ff;}#sk-container-id-1 div.sk-toggleable__content pre {margin: 0.2em;color: black;border-radius: 0.25em;background-color: #f0f8ff;}#sk-container-id-1 input.sk-toggleable__control:checked~div.sk-toggleable__content {max-height: 200px;max-width: 100%;overflow: auto;}#sk-container-id-1 input.sk-toggleable__control:checked~label.sk-toggleable__label-arrow:before {content: \"▾\";}#sk-container-id-1 div.sk-estimator input.sk-toggleable__control:checked~label.sk-toggleable__label {background-color: #d4ebff;}#sk-container-id-1 div.sk-label input.sk-toggleable__control:checked~label.sk-toggleable__label {background-color: #d4ebff;}#sk-container-id-1 input.sk-hidden--visually {border: 0;clip: rect(1px 1px 1px 1px);clip: rect(1px, 1px, 1px, 1px);height: 1px;margin: -1px;overflow: hidden;padding: 0;position: absolute;width: 1px;}#sk-container-id-1 div.sk-estimator {font-family: monospace;background-color: #f0f8ff;border: 1px dotted black;border-radius: 0.25em;box-sizing: border-box;margin-bottom: 0.5em;}#sk-container-id-1 div.sk-estimator:hover {background-color: #d4ebff;}#sk-container-id-1 div.sk-parallel-item::after {content: \"\";width: 100%;border-bottom: 1px solid gray;flex-grow: 1;}#sk-container-id-1 div.sk-label:hover label.sk-toggleable__label {background-color: #d4ebff;}#sk-container-id-1 div.sk-serial::before {content: \"\";position: absolute;border-left: 1px solid gray;box-sizing: border-box;top: 0;bottom: 0;left: 50%;z-index: 0;}#sk-container-id-1 div.sk-serial {display: flex;flex-direction: column;align-items: center;background-color: white;padding-right: 0.2em;padding-left: 0.2em;position: relative;}#sk-container-id-1 div.sk-item {position: relative;z-index: 1;}#sk-container-id-1 div.sk-parallel {display: flex;align-items: stretch;justify-content: center;background-color: white;position: relative;}#sk-container-id-1 div.sk-item::before, #sk-container-id-1 div.sk-parallel-item::before {content: \"\";position: absolute;border-left: 1px solid gray;box-sizing: border-box;top: 0;bottom: 0;left: 50%;z-index: -1;}#sk-container-id-1 div.sk-parallel-item {display: flex;flex-direction: column;z-index: 1;position: relative;background-color: white;}#sk-container-id-1 div.sk-parallel-item:first-child::after {align-self: flex-end;width: 50%;}#sk-container-id-1 div.sk-parallel-item:last-child::after {align-self: flex-start;width: 50%;}#sk-container-id-1 div.sk-parallel-item:only-child::after {width: 0;}#sk-container-id-1 div.sk-dashed-wrapped {border: 1px dashed gray;margin: 0 0.4em 0.5em 0.4em;box-sizing: border-box;padding-bottom: 0.4em;background-color: white;}#sk-container-id-1 div.sk-label label {font-family: monospace;font-weight: bold;display: inline-block;line-height: 1.2em;}#sk-container-id-1 div.sk-label-container {text-align: center;}#sk-container-id-1 div.sk-container {/* jupyter's `normalize.less` sets `[hidden] { display: none; }` but bootstrap.min.css set `[hidden] { display: none !important; }` so we also need the `!important` here to be able to override the default hidden behavior on the sphinx rendered scikit-learn.org. See: https://github.com/scikit-learn/scikit-learn/issues/21755 */display: inline-block !important;position: relative;}#sk-container-id-1 div.sk-text-repr-fallback {display: none;}</style><div id=\"sk-container-id-1\" class=\"sk-top-container\"><div class=\"sk-text-repr-fallback\"><pre>IsolationForest(contamination=0.05)</pre><b>In a Jupyter environment, please rerun this cell to show the HTML representation or trust the notebook. <br />On GitHub, the HTML representation is unable to render, please try loading this page with nbviewer.org.</b></div><div class=\"sk-container\" hidden><div class=\"sk-item\"><div class=\"sk-estimator sk-toggleable\"><input class=\"sk-toggleable__control sk-hidden--visually\" id=\"sk-estimator-id-1\" type=\"checkbox\" checked><label for=\"sk-estimator-id-1\" class=\"sk-toggleable__label sk-toggleable__label-arrow\">IsolationForest</label><div class=\"sk-toggleable__content\"><pre>IsolationForest(contamination=0.05)</pre></div></div></div></div></div>"
      ],
      "text/plain": [
       "IsolationForest(contamination=0.05)"
      ]
     },
     "execution_count": 10,
     "metadata": {},
     "output_type": "execute_result"
    }
   ],
   "source": [
    "imputer = SimpleImputer(strategy='mean')  # You can choose a different strategy based on your data\n",
    "data_imputed = imputer.fit_transform(data)\n",
    "\n",
    "model = IsolationForest(contamination=0.05)\n",
    "model.fit(data_imputed)"
   ]
  },
  {
   "cell_type": "code",
   "execution_count": 11,
   "id": "8b9ebfe5-c5ad-431a-ac72-27cdd89969fc",
   "metadata": {},
   "outputs": [],
   "source": [
    "# Predict anomalies\n",
    "predictions = model.predict(data_imputed)"
   ]
  },
  {
   "cell_type": "code",
   "execution_count": 12,
   "id": "d7b724a1-8198-43f4-b3ff-ca379635c610",
   "metadata": {},
   "outputs": [],
   "source": [
    "anomaly_column = data_imputed[:, -1]"
   ]
  },
  {
   "cell_type": "markdown",
   "id": "8cd7258d-2d9c-4c7a-8552-15ef2b66f256",
   "metadata": {},
   "source": [
    "# Results"
   ]
  },
  {
   "cell_type": "code",
   "execution_count": 13,
   "id": "f40c0a31-fb05-4e36-b473-7d3f5139d70e",
   "metadata": {},
   "outputs": [
    {
     "data": {
      "image/png": "[encoded data removed]",
      "text/plain": [
       "<Figure size 640x480 with 1 Axes>"
      ]
     },
     "metadata": {},
     "output_type": "display_data"
    }
   ],
   "source": [
    "# Plot the data and highlight anomalies\n",
    "plt.scatter(range(len(anomaly_column)), anomaly_column, c=predictions, cmap='viridis')\n",
    "plt.title('Anomaly Detection with Isolation Forest')\n",
    "plt.xlabel('Data Point')\n",
    "plt.ylabel('Feature Value')\n",
    "plt.show()\n"
   ]
  },
  {
   "cell_type": "code",
   "execution_count": null,
   "id": "71472d9b-5839-4311-b47d-b691f4c527c7",
   "metadata": {},
   "outputs": [],
   "source": []
  },
  {
   "cell_type": "code",
   "execution_count": null,
   "id": "890234de-fbba-49cc-bf8a-41a164afb632",
   "metadata": {},
   "outputs": [],
   "source": []
  },
  {
   "cell_type": "code",
   "execution_count": null,
   "id": "a0e0bf0d-b786-47a0-9e31-b38c98c8fe47",
   "metadata": {},
   "outputs": [],
   "source": []
  }
 ],
 "metadata": {
  "kernelspec": {
   "display_name": "Python 3 (ipykernel)",
   "language": "python",
   "name": "python3"
  },
  "language_info": {
   "codemirror_mode": {
    "name": "ipython",
    "version": 3
   },
   "file_extension": ".py",
   "mimetype": "text/x-python",
   "name": "python",
   "nbconvert_exporter": "python",
   "pygments_lexer": "ipython3",
   "version": "3.12.0"
  }
 },
 "nbformat": 4,
 "nbformat_minor": 5
}
